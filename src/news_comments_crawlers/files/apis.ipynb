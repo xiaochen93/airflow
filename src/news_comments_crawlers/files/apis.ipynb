{
 "cells": [
  {
   "cell_type": "markdown",
   "id": "222b6c97-b8d7-4fac-beff-ea03bed0c21f",
   "metadata": {},
   "source": [
    "# Chinese Translation"
   ]
  },
  {
   "cell_type": "code",
   "execution_count": 24,
   "id": "406cde43-002f-4e6b-9f41-0e11c299a701",
   "metadata": {},
   "outputs": [
    {
     "name": "stdout",
     "output_type": "stream",
     "text": [
      "Hello World\n",
      "Hello World 3\n"
     ]
    }
   ],
   "source": [
    "import requests\n",
    "import json\n",
    "\n",
    "\n",
    "TRANS_API = 'http://10.2.56.190:8090/predictions/zh-en'\n",
    "\n",
    "# Single Sentence Translation\n",
    "trans_response = requests.post(TRANS_API, json={'data': '你好世界'})\n",
    "print(trans_response.text)\n",
    "\n",
    "# Multiple Sentence Translation\n",
    "trans_response = requests.post(TRANS_API, json={'data': ['你好世界1', '你好世界2', '你好世界3']})\n",
    "print(trans_response.json()[2])"
   ]
  },
  {
   "cell_type": "markdown",
   "id": "1f58dbcf-9e4c-4a90-8e45-8a02445fa3c1",
   "metadata": {},
   "source": [
    "# Indonesian Category Prediction"
   ]
  },
  {
   "cell_type": "markdown",
   "id": "1be16eea-361b-41f2-99b8-28dcfdf3d27e",
   "metadata": {},
   "source": [
    "BI_CATE_API = 'http://10.2.56.213:5000/predictByNewsTitle'\n",
    "\n",
    "# Single Sentence Translation\n",
    "trans_response = requests.get(BI_CATE_API, params={\"q\":\"Pemerintah beri bantuan UMKM produksi alat kesehatan\"})\n",
    "out = (json.loads(trans_response.text)['predicted_label'])\n",
    "print(out)\n",
    "# Multiple Sentence Translation\n",
    "#trans_response = requests.post(TRANS_API, json={'data': ['你好世界1', '你好世界2', '你好世界3']})\n",
    "#print(trans_response.json()[2])"
   ]
  },
  {
   "cell_type": "markdown",
   "id": "9bbe4ec7-966f-4d78-93d4-0aaaf057996f",
   "metadata": {},
   "source": [
    "# 3. DB API Test"
   ]
  },
  {
   "cell_type": "code",
   "execution_count": 119,
   "id": "4a9fe681-3faf-4113-8c78-823a214f60e0",
   "metadata": {},
   "outputs": [
    {
     "name": "stdout",
     "output_type": "stream",
     "text": [
      "<Response [200]>\n"
     ]
    }
   ],
   "source": [
    "GET_API = 'http://10.2.56.213:5000/select'\n",
    "\n",
    "# Single Sentence Translation\n",
    "response =requests.get(GET_API, params={\"q\":\"SELECT * FROM dsta_db.news_test WHERE source_id=1 LIMIT 10\"})\n",
    "\n",
    "print(response)"
   ]
  },
  {
   "cell_type": "code",
   "execution_count": 120,
   "id": "f0b805d8-e974-4f79-9c0e-aa5997f9e0ff",
   "metadata": {
    "collapsed": true,
    "jupyter": {
     "outputs_hidden": true
    },
    "tags": []
   },
   "outputs": [
    {
     "data": {
      "text/plain": [
       "'[{\"news_id\":115002,\"category\":\"Singapore\",\"datetime\":1426636800000,\"content\":null,\"org_content\":\"SINGAPORE - The Singapore Swimming Association copped flak for its lack of originality when it borrowed the name of an elite skydiving unit here as the new national brand identity for its athletes.\\\\nIn an embarassing U-turn, it has since dropped its Red Lions moniker after pressure from military servicemen, the Ministry of Defence and members of the public.\\\\nHere are 5 things to know about both groups.\\\\nSingapore Swimming Association\\'s water-based Red Lions\\\\n1. New national team identity\\\\nAccording to the SSA, its new identity Red Lions is a \\\\\"symbol that sits on the highest ground and serves as the beacon of inspiration\\\\\".\\\\n\\\\nThe logo, which depicts the head of a lion, symbolises courage, strength and excellence. The five stars on top represents the five aquatic disciplines within SSA - swimming, diving, synchronised swimming, water polo and open water swimming.\\\\n2. National campaign and video\\\\n\\\\nAlong with its new identity, SSA also launched a national campaign called \\\\\"Swim with Us\\\\\" on March 14, which was unveiled by Minister for Manpower and Singapore National Olympic Council president Tan Chuan-Jin.\\\\nIt also released a video which depicts a young girl getting inspired after watching Singapore\\'s aquatic athletes such as Asian Games gold medallist Joseph Schooling in action on television.\\\\n3. Big year for aquatic sports in Singapore\\\\nAll eyes will be on the Red Lions during June\\'s South-east Asian (SEA) Games on home soil.\\\\n\\\\nThe venue, the OCBC Aquatic Centre at the Singapore Sports Hub, will also host three international competitions this year. They are the FINA World Junior Swimming Championships in August, as well as the FINA Swimming World Cup and FINA Diving Grand Prix, both in October.\\\\n4. How was the name chosen?\\\\nSSA\\'s Vice-President (Finance) Jose Raymond said \\\\\"there was a deep and detailed stakeholder engagement\\\\\" while deciding on the new national brand identity. Feedback from the athletes were taken into account and the name was a unanimous decision.\\\\n5. Seeking better engagement with fans\\\\nSSA is planning to revamp its website to provide more content for the public. It also expanded its reach on social media by setting up its Instagram, Twitter and YouTube accounts.\\\\nSingapore Armed Forces\\' airborne Red Lions\\\\n1. When were they formed?\\\\n\\\\nWhile freefall displays by the Singapore Armed Forces Parachute Team have been a regular feature at National Day Parades, it was only in 1995 that the name Red Lions was formally coined.\\\\nThe team is part of the Singapore Armed Forces\\' Commando Formation.\\\\n2. Who came up with the name?\\\\nPach Ang, a veteran commando and Red Beret in the SAF Special Forces unit. According to a report in Sept 2014, Mr Ang clocked an impressive total of 3,500 jumps during his 32 years of service.\\\\nHe moved to Abu Dhabi in 2009 and founded professional event management company RedFilo. The name is a tribute to his parachute-jumping days - red refers to the colour of the distinctive beret he wore while in service, while \\\\\"Filo\\\\\" is special forces speak for \\\\\"first in, last out\\\\\".\\\\n3. What it takes to be a Red Lion\\\\n\\\\nThe team almost exclusively draws its members from the Commandos or the Naval Diving Unit. To qualify, a Red Lion must have made a minimum of 180 jumps. Training takes place on weekends.\\\\n4. They\\'re the best of the best\\\\nAt the 12th Asiania Four-way Formation Skydiving Championships - an annual Asia-Pacific competition - held from Oct 29 to Nov 7 2008 in the United Arab Emirates, the Red Lions beat 16 teams from 11 countries to clinch the top award.\\\\nThey have also participated in numerous international and regional competitions over the years.\\\\n5. They have a female daredevil in their ranks\\\\n\\\\nThird Warrant Officer Shirley Ng earned the distinction of being the first female Red Lion when she made her NDP debut in 2014. She was supposed to jump a year earlier, but the Red Lions segment was called off due to poor weather.\\\\n3WO Ng started out her SAF career as a certified rigger, whose job is to pack parachutes, in 1998. In an ST interview in July 2013, she said she overcame a wrist injury to be selected for a position mostly filled by commandos.\",\"title\":null,\"source_id\":1,\"url\":\"https:\\\\/\\\\/www.straitstimes.com\\\\/singapore\\\\/red-lions-controversy-5-things-to-know-about-the-two-groups-contesting-the-name\",\"lang\":\"EN\",\"topic_id\":null,\"org_title\":\"Red Lions controversy: 5 things to know about the two groups contesting the name\",\"deleted\":0,\"org\":1},{\"news_id\":115003,\"category\":\"World\",\"datetime\":1428364800000,\"content\":null,\"org_content\":\"Australian tourist Andrew Gaskell, who went missing in Mulu National Park in Sarawak, was found alive on Oct 31, 2016.\\\\nSearch and rescue teams had combed the Mulu summit in an effort to find Mr Gaskell, who had been missing since Oct 20 after embarking on a solo trek.\\\\nMore than 60 personnel were involved in the search-and-rescue effort, including those from the Fire and Rescue Department, the police, the civil defence force, as well as Sarawak Forestry rangers.\\\\nThe Mulu National Park, a Unesco world heritage site, has networks of vast caves, underground rivers and steep mountains, as well as sharp limestone walls.\\\\nREAD MORE HERE\\\\n\\\\nA missing Indonesian man was found alive, naked and floating in a huge volcanic lake on Oct 13, 2015, two days after the helicopter in which he was travelling crashed.\\\\nThe man, named in local reports as Fransiskus Subihardayan, was rushed to hospital after being found conscious but very weak, and wearing only a black watch, in Lake Toba, into which the aircraft is believed to have plummeted, on western Sumatra island.\\\\nThe survivor, in his 20s, was one of five people aboard the Eurocopter EC-130 when it disappeared Sunday during a short flight from Samosir island, a popular tourist spot on the lake, to the city of Medan.\\\\nREAD MORE HERE\\\\n\\\\nA man missing for six days in a remote Australian desert in searing heat without water was found on Oct 13, 2015, after surviving by eating black ants, the police said.\\\\nMr Reg Foggerdy, 62, disappeared on Oct 7 heading to the Shooter\\'s Shack camp near Laverton in the West Australian Goldfields, some 950km north-east of Perth, on a hunting trip.\\\\nWhen he failed to return, family members raised the alarm and a search by police trackers finally found him 15km from where he went missing.\\\\nREAD MORE HERE\\\\n\\\\nA 76-year-old man who lost his way while hiking was found near Upper Peirce Reservoir on Sept 7, 2015, after a 45-hour search by the authorities.\\\\nMr Ng Kang Leng had planned to walk from Dairy Farm Road towards MacRitchie Reservoir - his first time doing so - on Saturday afternoon (Sept 5).\\\\nAfter he lost his bearings, he called the police for help at about 6.50pm, but was unable to give specific details of his whereabouts.\\\\nREAD MORE HERE\\\\n\\\\nTwo orang asli children missing in the jungles of the Malaysian state of Kelantan since August were found alive on Oct 9, 2015, in a miraculous twist.\\\\nSeven children aged between seven and 11 were reported missing on Aug 23, all believed to have lost their way in the Tohoi forest reserve while walking home from school.\\\\nSo far, only two of the children have been found alive.\\\\nREAD MORE HERE\\\\n\\\\nAn autistic boy who went missing four days ago at an Australian camping ground was found alive on Tuesday, with the police describing his survival in the dense forest as a \\\\\"miracle\\\\\".\\\\nLuke Shambrook, 11, was spotted by a police helicopter walking in rugged terrain 3km from the Lake Eildon National Park campsite where he was last seen on Friday.\\\\nHe was picked up by paramedics and taken to hospital suffering from hypothermia and dehydration.\\\\nREAD MORE HERE\\\\n\\\\nA US man missing at sea for more than two months was celebrating a miraculous rescue on Thursday after being picked up by a passing ship and airlifted to dry land, the US Coast Guard said.\\\\nLouis Jordan, 37, who was reported missing on January 29, told family members he had survived by catching fish with his hands and drinking rain water, according to the Coast Guard.\\\\nHe was spotted drifting on his stricken sailboat approximately 322 kilometres off the coast of North Carolina by the German-registered Houston Express tanker and taken aboard.\\\\nREAD MORE HERE\\\\n\\\\nA two-year-old boy survived a night alone in a snake-infested rubber plantation in the interior Tenom district.\\\\nHealezry Zeandfly Henderi was found sleeping in a narrow path of a thick undergrowth at 10.25am yesterday, about 18 hours after he was reported missing.\\\\nApart from a minor scratch on his cheek, Healezry was generally doing well although he was weak and frightened when he saw firemen approaching him in the hilly terrain rubber plantation about 300m from his house in Kg Kuala Tolokoson.\\\\nREAD MORE HERE\\\\n\\\\nA 19-year-old American student who disappeared over the weekend while skiing in the Swiss Alps was rescued Tuesday, alive but suffering from hypothermia, police said Tuesday.\\\\nAfter searching for more than 48 hours, rescuers finally found the US teen, who went missing while skiing off-piste Sunday near the Diablerets resort in southern Switzerland, police in the canton of Vaud said in a statement.\\\\n\\\\\"The man was found conscious, in a state of hypothermia and exhaustion, and stuck waist-deep in the thick blanket of snow,\\\\\" the statement said, describing his survival as \\\\\"miraculous\\\\\".\\\\nREAD MORE HERE\\\\n\\\\nNational Institute of Education student Sanjay Radakrishna, 26, who went missing in Cambodia last week, survived for about a week in the mountain without food.\\\\nWhat was supposed to be a simple day trip up the mountain took a turn for the worst when he slid off a wet path on his way down Phnom Aural in Kampong Speu.\\\\nAfter the fall, he got lost in a forested area because the battery of his mobile phone went flat and he could not access its GPS function to figure out which direction to walk. To find his way down the mountain, he followed the path of a waterfall and walked west, in the direction of the sunset.\\\\nREAD MORE HERE\\\\n\\\\nA woman missing for more than two weeks in a rugged Australian rainforest has stumbled out alive after surviving a chase by a crocodile and eating small fish, officials and reports said.\\\\nShannon Fraser, 30, went missing on Sept 21 near the remote Josephine Falls in Queensland state after becoming disorientated, wearing just leggings, a shirt and flip flops.\\\\nShe was spotted by a banana farmer on Wednesday, covered in cuts, welts, bruises and insect bites, the Brisbane Courier-Mail reported.\\\\nREAD MORE HERE\\\\n\\\\nA four-year-old girl was recovering in hospital Wednesday after being lost for nearly two weeks in a forest in the Russian far north with only her puppy to defend her.\\\\nKarina Chikitova was found emaciated but alive at the weekend, having survived 11 days in the Siberian wilderness in freezing night-time temperatures with only berries to sustain her in what rescuers said was nothing short of a miracle.\\\\nThe little girl had left her tiny village in the Sakha republic with her dog on July 29 to go and stay with her father who lived in a neighbouring hamlet.\\\\nREAD MORE HERE\",\"title\":null,\"source_id\":1,\"url\":\"https:\\\\/\\\\/www.straitstimes.com\\\\/world\\\\/survival-tales-stories-of-people-who-got-lost-in-the-wilderness-and-survived\",\"lang\":\"EN\",\"topic_id\":null,\"org_title\":\"Survival tales: Stories of people who got lost in the wilderness and survived\",\"deleted\":0,\"org\":1},{\"news_id\":115004,\"category\":\"Singapore\",\"datetime\":1429920000000,\"content\":null,\"org_content\":\"SINGAPORE - A fallen tree on Hill Street caused a traffic build-up on Saturday afternoon.\\\\nPhotos received from Straits Times reader A Mellenres Alcala at around 4.45pm showed the tree blocking the road near the Armenian Church.\\\\nA spokesman from the Singapore Civil Defence Force told The Straits Times that it received a report of a fallen tree at 4.29pm. He added that a car had been damaged by the tree.\\\\nOfficers used chainsaws to partially clear the road for vehicles to pass. The spokesman added that the National Parks Board will handle the rest of the clean-up. No casualties were reported.\\\\nVideos courtesy of Hwee Ying\",\"title\":null,\"source_id\":1,\"url\":\"https:\\\\/\\\\/www.straitstimes.com\\\\/singapore\\\\/fallen-tree-causes-traffic-build-up-at-hill-street\",\"lang\":\"EN\",\"topic_id\":null,\"org_title\":\"Fallen tree causes traffic build-up at Hill Street\",\"deleted\":0,\"org\":1},{\"news_id\":115005,\"category\":\"Singapore\",\"datetime\":1432166400000,\"content\":null,\"org_content\":\"SINGAPORE - A pregnant woman escaped unhurt after a tree branch fell on the car she was travelling in on the Pan Island Expressway (PIE).\\\\nChinese evening newspaper Shin Min Daily News reported on Thursday that the accident happened the day before in the evening, at the PIE exit to Toh Guan Road.\\\\nAn eyewitness called Mah said he was driving on the PIE when he saw a tree branch break. It then fell on a car which was travelling on the same expressway.\\\\nThe 43-year-old taxi driver described the tree banch as being about 3m long.\\\\nHe said the windscreen of the car shattered and the top of the car was also flattened.\\\\nMr Mah said he saw a woman in her 30s getting out from the car, looking frightened and touching her swollen belly.\\\\nHe said a man believed to her husband, was seen comforting her by the road shoulder.\\\\nMr Mah believes both were unharmed from the accident.\\\\nHe said the tree branch broke in half, taking up two lanes on the PIE.\\\\nHe was heading in the direction towards Tuas but had to zip across the lanes to take the exit.\\\\nHe said there were not many cars on the expressway at that time.\\\\nkchitra@sph.com.sg\",\"title\":null,\"source_id\":1,\"url\":\"https:\\\\/\\\\/www.straitstimes.com\\\\/singapore\\\\/transport\\\\/tree-branch-falls-on-car-travelling-on-pie-pregnant-woman-escapes-unharmed\",\"lang\":\"EN\",\"topic_id\":null,\"org_title\":\"Tree branch falls on car travelling on PIE, pregnant woman escapes unharmed\",\"deleted\":0,\"org\":1},{\"news_id\":115006,\"category\":\"Singapore\",\"datetime\":1433808000000,\"content\":null,\"org_content\":\"SINGAPORE - The branch of a 40-year-old tree broke during a storm and damaged two vehicles that were parked underneath it.\\\\nThe incident occurred on Sunday (June 7) at 9am. The vehicles were parked in an open-air carpark at Boon Keng Road, in front of Block 16.\\\\nChinese daily Lianhe Wanbao reported that the falling branch might have been due to heavy rain or the weight of the tree itself.\\\\nMr Wang Rong Jie, a 65-year-old shop owner who witnessed the incident, said there was a storm at the time and he heard a loud sound.\\\\nHe told Wanbao: \\\\\"I went to the back of the shop to see what had happened and I saw the branch lying on a car and a van.\\\\\"\\\\nThe car\\'s sideview mirror was broken by the falling branch. The engine cover on the right of the van was also dented.\\\\nMr Wang said he bought a new Mercedes car six months ago and has also been parking it under the tree. He initially thought his car was damaged.\\\\n\\\\\"I was relieved that the branch just brushed past my new car,\\\\\" he said. He has since moved his car away from the tree.\\\\nHe said he believed the tree was more than 40 years old as it was there when he opened his shop 40 years ago.\\\\nAfter the incident, a group of workers was deployed to sweep away the leaves and saw off large branches of the tree. No injuries were reported.\\\\nsuetan@sph.com.sg\",\"title\":null,\"source_id\":1,\"url\":\"https:\\\\/\\\\/www.straitstimes.com\\\\/singapore\\\\/environment\\\\/branch-of-40-year-old-tree-falls-and-damages-2-cars-at-boon-keng-road-no\",\"lang\":\"EN\",\"topic_id\":null,\"org_title\":\"Branch of 40-year-old tree falls and damages 2 cars at Boon Keng Road, no injuries reported\",\"deleted\":0,\"org\":1},{\"news_id\":115007,\"category\":\"Singapore\",\"datetime\":1407024000000,\"content\":null,\"org_content\":\"With the moon as a dramatic backdrop, the parachutists took the plunge.\\\\nIn a thrilling display of precision and skill, the Singapore Armed Forces Red Lions parachute team executed a free-fall jump during the National Day Parade (NDP) preview show on Aug 2, 2014.\\\\nThe nine parachutists landed in front of the audience at The Float@Marina Bay, where Junior Red Lions joined them to salute the nation together.\\\\nThe Junior Red Lions are Primary 4 and Primary 5 pupils who were selected through a contest to be part of this year\\'s NDP celebrations with the Red Lions. They also got to train with the team at the iFly wind tunnel on Sentosa. This is one of NDP 2014\\'s active participation initiatives, where citizens are encouraged to join in the celebrations for Singapore\\'s 49th birthday.\",\"title\":null,\"source_id\":1,\"url\":\"https:\\\\/\\\\/www.straitstimes.com\\\\/singapore\\\\/red-lions-thrill-ndp-preview-crowd-with-free-fall-jump-against-lunar-backdrop\",\"lang\":\"EN\",\"topic_id\":null,\"org_title\":\"Red Lions thrill NDP preview crowd with free-fall jump against lunar backdrop\",\"deleted\":0,\"org\":1},{\"news_id\":115008,\"category\":\"Singapore\",\"datetime\":1407196800000,\"content\":null,\"org_content\":\"Cloudy skies last year prevented Third Warrant Officer (3WO) Shirley Ng from becoming the first female Red Lion parachutist to jump at the National Day Parade (NDP).\\\\nBut the tenacious 36-year-old is back and ready to make history at this year\\'s parade on Saturday.\\\\n\\\\\"Of course I\\'m very, very honoured to be given a second shot,\\\\\" said 3WO Ng, who will be the eighth out of nine Red Lions to make the leap. \\\\\"But I already treated last year as my first NDP. We did six great jumps last year, including the rehearsals and preview.\\\\\"\\\\nA perennial crowd favourite, the Red Lions segment was called off last year due to poor weather.\\\\n \\\\n\\\\\"My relatives and friends were still waiting. They thought the jump was postponed,\\\\\" recalled 3WO Ng. \\\\\"It was indeed disappointing, but then again, what\\'s over is over. We\\'re really focusing on this year\\'s NDP.\\\\\"\\\\nThe army regular joined the Singapore Armed Forces in 1998 as a rigger, tasked with packing parachutes. A year later, she made her first jump from 305m above ground using the first parachute she packed.\\\\nThis year, the same team has returned to make the 3,050m plunge, along with two new members. Having a bigger team meant that a lot more effort went into getting ready this time.\\\\n\\\\\"Even though these two members have taken part in previous NDPs before, if you have any new people that join your team, you need a lot more rehearsals, more preparations,\\\\\" said 3WO Ng.\\\\nBut the adrenaline rush more than makes up for the time put in, she said. \\\\\"When you\\'re coming down to land, you actually can hear the crowd cheering, people shouting your name, the emcee talking about you... it\\'s great.\\\\\"\\\\nAsked if she worries that history might repeat itself, she laughed and said firmly: \\\\\"I never! I don\\'t think about things that are not within our control.\\\\\"\\\\nyeosamjo@sph.com.sg\",\"title\":null,\"source_id\":1,\"url\":\"https:\\\\/\\\\/www.straitstimes.com\\\\/singapore\\\\/second-chance-for-first-female-red-lion-at-national-day-parade\",\"lang\":\"EN\",\"topic_id\":null,\"org_title\":\"Second chance for first female Red Lion at National Day Parade\",\"deleted\":0,\"org\":1},{\"news_id\":115009,\"category\":\"Singapore\",\"datetime\":1413849600000,\"content\":null,\"org_content\":\"SINGAPORE - A woman in her 30s was taken to hospital with burn injuries after a suspected gas explosion in her Ang Mo Kio flat on Tuesday morning.\\\\nThe blast shattered some of the flat\\'s window panes, leaving broken glass along the corridor outside the fourth floor unit. One of the windows that was dislodged by the explosion damaged a vehicle in the car park below the flat.\\\\nThe Singapore Civil Defence Force (SCDF) said it was alerted to a fire at 7.33am at Block 218 Ang Mo Kio Avenue and dispatched a fire engine, an ambulance and a support vehicle to the scene.\\\\nBut the fire which involved a kitchen stove had burnt itself out prior to SCDF\\'s arrival, the SCDF said. The cause of the fire is under investigation.\\\\nThe woman is undergoing treatment at the Singapore General Hospital.\\\\nIn an advisory on how to handle liquefied petroleum gas (LPG) safely, the SCDF gave the following tips:\\\\nIf residents smell a gas leak, they should:\",\"title\":null,\"source_id\":1,\"url\":\"https:\\\\/\\\\/www.straitstimes.com\\\\/singapore\\\\/woman-suffers-burns-after-suspected-gas-explosion-in-ang-mo-kio-flat\",\"lang\":\"EN\",\"topic_id\":null,\"org_title\":\"Woman suffers burns after suspected gas explosion in Ang Mo Kio flat\",\"deleted\":0,\"org\":1},{\"news_id\":115010,\"category\":\"Singapore\",\"datetime\":1390435200000,\"content\":null,\"org_content\":\"The British wealth fund manager who referred to public transport commuters in Singapore as \\\\\"poor people\\\\\" in his Facebook post has grabbed headlines in his home country.\\\\nBritish newspapers, including The Guardian, The Independent, The Telegraph and the London Evening Standard, have picked up the story of how Mr Anton Casey\\'s comments had caused a furore in Singapore.\\\\nThe Guardian led off its piece with how the Briton had been forced to apologise to the people of Singapore.\\\\nBoth The Guardian and the Evening Standard also highlighted the derogatory remarks he had posted on Facebook about a taxi driver in Singapore having a towel on his lap and wearing gloves while driving.\\\\nThe Evening Standard went on to also say that \\\\\"hundreds of angry locals have called for him to leave the country in comments on news and social media websites...\\\\\"\\\\nSome British papers also carried a statement from Mr Casey\\'s firm, Crossinvest Asia, which said that the company is investigating his comments and is set to take \\\\\"appropriate action\\\\\" once the review is completed.\\\\nThe firm\\'s managing director, Mr Christophe Audergon, was quoted as saying: \\\\\"Crossinvest does not condone the comments. We believe they were made in poor taste.\\\\\"\\\\nOn Tuesday, Mr Casey, 39, who is married to former Miss Singapore Universe Bernice Wong, apologised in a statement for having \\\\\"offended and disrespected the people of Singapore\\\\\".\\\\n\\\\\"I wish for nothing more than to be forgiven for my poor judgment and given a second chance to rebuild the trust people have had in me as a resident of this wonderful country,\\\\\" said the permanent resident.\\\\nThis came after two of his Facebook posts began circulating on the Internet. In one, a picture of his five-year-old son on an MRT train was accompanied by the caption: \\\\\"Daddy where is your car & who are all these poor people?\\\\\"\\\\nIn the other post, his son is pictured in a silver Porsche with the comment: \\\\\"...Normal service can resume, once I have washed the stench of public transport off me...\\\\\"\\\\nA YouTube video of Mr Casey was later posted in what seemed like a taunting response to his detractors, but he said in his statement that this was a \\\\\"misuse of an old video by unknown sources\\\\\".\\\\nMr Casey also said his family had suffered \\\\\"extreme emotional and verbal abuse online\\\\\" and had even received death threats.\\\\nMany readers of The Guardian\\'s left comments on its site condemning Mr Casey\\'s actions. \\\\\"There are a number of these British prats in Singapore working in the financial sector. They think they are God\\'s chosen few but in reality despised by the many. Remember Nick Leeson?\\\\\" wrote reader ThaiPete.\\\\nOne defended the cleanliness of Singapore\\'s public transport.\\\\nHappy Valley wrote: \\\\\"Singapore actually has the cleanest public transport system I have ever used. In fact Singapore is clean all round. I believe that it is the only country in the world that bans chewing gum. This guy is a total and utter git. Biting the hand that feeds him. He deserves to be kicked out.\\\\\"\\\\nIn its report, The Telegraph quoted an unnamed male expatriate who supposedly knows Mr Casey and his family. The expatriate said that Mr Casey \\\\\"has a very British sense of humour, which can be very scathing\\\\\".\\\\n\\\\\"It can cross lines and it did cross lines. I had to defriend him on Facebook because I couldn\\'t stand the rubbish he was writing about all sorts of people. However, his wife and son were sweet,\\\\\" he was quoted as saying.\",\"title\":null,\"source_id\":1,\"url\":\"https:\\\\/\\\\/www.straitstimes.com\\\\/singapore\\\\/anton-caseys-comments-on-poor-people-in-singapore-make-headlines-in-british-press\",\"lang\":\"EN\",\"topic_id\":null,\"org_title\":\"Anton Casey\\'s comments on \\'poor people\\' in Singapore make headlines in British press\",\"deleted\":0,\"org\":1},{\"news_id\":115011,\"category\":\"Business\",\"datetime\":1503878400000,\"content\":null,\"org_content\":\"SINGAPORE (REUTERS) - The euro surged to its highest level since January 2015 against the US dollar early on Monday (Aug 28), after European Central Bank president Mario Draghi failed to talk down the single currency\\'s strength as had been expected.\\\\nOil prices inched higher after tropical storm Harvey struck Texas over the weekend at the heart of the United States\\' oil and gas industry, forcing operators to close several refineries and evacuate and close offshore platforms.\\\\nJapanese and Australian stock futures were pointing to higher opens, but S&P E-mini futures were marginally lower.\\\\nSpeaking at the US Federal Reserve\\'s annual conference in Jackson Hole, Wyoming, Draghi said the ECB\\'s ultra-easy monetary policy was working and the euro zone\\'s economic recovery has taken hold, but didn\\'t cite the common currency\\'s strength as a concern or discuss monetary policy specifically.\\\\nThe euro advanced 0.3 per cent to US$1.1953 on Monday, extending Friday\\'s 1 per cent jump.\\\\n\\\\\"The EUR bulls will feed off anything they can get that suggests a less accommodative stance going forward,\\\\\" Chris Weston, chief market strategist at IG in Melbourne, wrote in a note.\\\\nThe dollar was slightly lower at 109.26 yen after sliding 0.2 per cent on Friday after Federal Reserve chair Janet Yellen, speaking before Draghi at the same event, also didn\\'t address policy.\\\\nYellen\\'s remarks disappointed some investors who\\'d hoped for hints on the Fed\\'s path on interest rates and sent 10-year US Treasury yields to their lowest level in a month. Investors viewed her remarks as reducing the likelihood the US central bank will raise interest rates in December.\\\\nUS oil inched higher to $47.88 a barrel, adding to Friday\\'s 0.9 per cent gain.\\\\nThe Gulf Coast, where Texas is located, is home to about nearly half of the nation\\'s refining capacity, and the reduced supply could affect gasoline supplies across the US South-east and other parts of the country.\",\"title\":null,\"source_id\":1,\"url\":\"https:\\\\/\\\\/www.straitstimes.com\\\\/business\\\\/companies-markets\\\\/euro-surges-to-2-12-year-after-draghi-comments-oil-up-after-harvey\",\"lang\":\"EN\",\"topic_id\":null,\"org_title\":\"Euro surges to 2\\\\u00bd-year high after Draghi comments, oil up after Harvey batters Texas\",\"deleted\":0,\"org\":1}]'"
      ]
     },
     "execution_count": 120,
     "metadata": {},
     "output_type": "execute_result"
    }
   ],
   "source": [
    "response.text"
   ]
  },
  {
   "cell_type": "code",
   "execution_count": 4,
   "id": "26fb2258-046d-42fa-abcc-2359f9576100",
   "metadata": {},
   "outputs": [
    {
     "name": "stdout",
     "output_type": "stream",
     "text": [
      "C:\\Users\\liux5\\Documents\\Project 3 - DSTA\n"
     ]
    },
    {
     "name": "stderr",
     "output_type": "stream",
     "text": [
      "C:\\Users\\liux5\\AppData\\Local\\Temp\\ipykernel_25472\\1294652333.py:11: DeprecationWarning: executable_path has been deprecated, please pass in a Service object\n",
      "  driver = webdriver.Chrome(executable_path=(str(ROOT_DIR)+\"/chromedriver\"), options=options)\n"
     ]
    }
   ],
   "source": [
    "from selenium import webdriver\n",
    "import codecs\n",
    "import pathlib\n",
    "\n",
    "#initalise crawler option(s)\n",
    "options = webdriver.ChromeOptions()\n",
    "options.add_experimental_option(\"detach\", True)\n",
    "#options.add_argument('headless')\n",
    "ROOT_DIR = pathlib.Path().absolute()\n",
    "print(ROOT_DIR)\n",
    "driver = webdriver.Chrome(executable_path=(str(ROOT_DIR)+\"/chromedriver\"), options=options)\n",
    "#launch URL\n",
    "driver.get(\"https://old.reddit.com/r/singapore/comments/zfxj95/fulltime_nsf_firefighter_dies_in_hospital_after/\")\n",
    "#get file path to save page\n",
    "\n",
    "#open file in write mode with encoding\n",
    "f = codecs.open(\"test.html\", \"w\", \"utf−8\")\n",
    "#obtain page source\n",
    "h = driver.page_source\n",
    "#write page source content to file\n",
    "f.write(h)\n",
    "#close browser\n",
    "driver.quit()"
   ]
  },
  {
   "cell_type": "code",
   "execution_count": null,
   "id": "e398c00e-0c8b-4908-a99b-b5be763691e9",
   "metadata": {},
   "outputs": [],
   "source": [
    "\n",
    "\n",
    "\n",
    "def getRedditCommentItems(driver, c_url):\n",
    "    xpath_comments_dir = \"//div[contains(@class, 'sitetable nestedlisting')]\"\n",
    "    getTableItems(driver, xpath_comments_dir)\n",
    "    \n",
    "    "
   ]
  }
 ],
 "metadata": {
  "kernelspec": {
   "display_name": "Python 3 (ipykernel)",
   "language": "python",
   "name": "python3"
  },
  "language_info": {
   "codemirror_mode": {
    "name": "ipython",
    "version": 3
   },
   "file_extension": ".py",
   "mimetype": "text/x-python",
   "name": "python",
   "nbconvert_exporter": "python",
   "pygments_lexer": "ipython3",
   "version": "3.9.12"
  },
  "widgets": {
   "application/vnd.jupyter.widget-state+json": {
    "state": {},
    "version_major": 2,
    "version_minor": 0
   }
  }
 },
 "nbformat": 4,
 "nbformat_minor": 5
}
