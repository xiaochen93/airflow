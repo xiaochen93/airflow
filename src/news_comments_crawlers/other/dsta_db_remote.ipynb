{
 "cells": [
  {
   "cell_type": "code",
   "execution_count": 40,
   "id": "59ed9753-6302-4c48-9e12-8089a85eca59",
   "metadata": {},
   "outputs": [],
   "source": [
    "import pandas as pd\n",
    "import pymysql\n",
    "import logging\n",
    "import sshtunnel\n",
    "from sshtunnel import SSHTunnelForwarder\n",
    "import pickle\n",
    "from tqdm import tqdm\n",
    "from typing import List, Any, Dict\n",
    "import pickle"
   ]
  },
  {
   "cell_type": "markdown",
   "id": "9ad88c64-a925-4c6d-8581-ffd9126a094f",
   "metadata": {},
   "source": [
    "# SSH Credentials & Tunnel\n",
    "\n",
    "sample : https://practicaldatascience.co.uk/data-science/how-to-connect-to-mysql-via-an-ssh-tunnel-in-python"
   ]
  },
  {
   "cell_type": "code",
   "execution_count": 41,
   "id": "3f11fd75-4490-4232-a0b4-db0e8e2f7217",
   "metadata": {},
   "outputs": [],
   "source": [
    "ssh_username = 'xiaochen'\n",
    "ssh_password = '123456'\n",
    "ssh_host = '10.2.56.213'\n",
    "database_username = 'root'\n",
    "database_password = '123456'\n",
    "localhost= '127.0.0.1'\n",
    "db_name = \"dsta_db\"\n",
    "\n"
   ]
  },
  {
   "cell_type": "code",
   "execution_count": 42,
   "id": "0162b03e-01ad-4773-9923-ba5cb28066e8",
   "metadata": {},
   "outputs": [],
   "source": [
    "def open_ssh_tunnel(verbose=False):\n",
    "    \"\"\"Open an SSH tunnel and connect using a username and password.\n",
    "    \n",
    "    :param verbose: Set to True to show logging\n",
    "    :return tunnel: Global SSH tunnel connection\n",
    "    \"\"\"\n",
    "    if verbose:\n",
    "        sshtunnel.DEFAULT_LOGLEVEL = logging.DEBUG\n",
    "    \n",
    "    global tunnel\n",
    "    tunnel = SSHTunnelForwarder(\n",
    "        (ssh_host, 22),\n",
    "        ssh_username = ssh_username,\n",
    "        ssh_password = ssh_password,\n",
    "        remote_bind_address = ('127.0.0.1', 3306)\n",
    "    )\n",
    "    \n",
    "    tunnel.start()\n",
    "\n",
    "\n"
   ]
  },
  {
   "cell_type": "code",
   "execution_count": 43,
   "id": "4e416002-e03e-4d23-83bc-58c4523817ab",
   "metadata": {},
   "outputs": [],
   "source": [
    "def close_ssh_tunnel():\n",
    "    \"\"\"Closes the SSH tunnel connection.\n",
    "    \"\"\"\n",
    "    tunnel.close"
   ]
  },
  {
   "cell_type": "markdown",
   "id": "52871beb-7487-43e4-87c6-41b810ae9975",
   "metadata": {},
   "source": [
    "# MySQL Connection\n",
    "sample for insertion : https://www.w3schools.com/python/python_mysql_insert.asp"
   ]
  },
  {
   "cell_type": "code",
   "execution_count": 44,
   "id": "9fa489f4-369b-41f8-9fb0-bc50795a5ae3",
   "metadata": {},
   "outputs": [],
   "source": [
    "def mysql_connect():\n",
    "    \"\"\"Connect to a MySQL server using the SSH tunnel connection\n",
    "    \n",
    "    :return connection: Global MySQL database connection\n",
    "    \"\"\"\n",
    "    global connection\n",
    "    \n",
    "    connection = pymysql.connect(\n",
    "        host='localhost',\n",
    "        user=database_username,\n",
    "        db='dsta_db',\n",
    "        passwd=database_password,\n",
    "        port=tunnel.local_bind_port\n",
    "    )"
   ]
  },
  {
   "cell_type": "code",
   "execution_count": 45,
   "id": "4efc3678-ce57-41b8-b592-cc693eaacf48",
   "metadata": {},
   "outputs": [],
   "source": [
    "def insertion(mycursor, sql,val):\n",
    "    try:\n",
    "        mycursor.execute(sql, val)\n",
    "        connection.commit()\n",
    "    except Exception as e:\n",
    "        print('\\n-- DEBUG:', e)\n",
    "        print('\\n-- DEBUG: insertion encounter errors')\n",
    "        raise\n",
    "        \n",
    "def update(mycursor, query):\n",
    "    try:\n",
    "        mycursor.execute(query)\n",
    "        connection.commit()\n",
    "    except Exception as e:\n",
    "        print('\\n-- DEBUG:', e)\n",
    "        print('\\n-- DEBUG: insertion encounter errors')\n",
    "        raise    \n",
    "    \n",
    "\n",
    "def _selection(mycursor, sql):\n",
    "    \"\"\"Runs a given SQL query via the global database connection.\n",
    "    \n",
    "    :param sql: MySQL query\n",
    "    :return: Pandas dataframe containing results\n",
    "    \"\"\"\n",
    "    try:\n",
    "        mycursor.execute(sql)\n",
    "\n",
    "        myresult = mycursor.fetchall()\n",
    "        \n",
    "        return myresult\n",
    "    except Exception as e:\n",
    "        print('\\n-- DEBUG:', e)\n",
    "        print('\\n-- DEBUG: selection encounter errors')\n",
    "        raise\n",
    "\n",
    "def selection(sql):\n",
    "    \"\"\"Runs a given SQL query via the global database connection.\n",
    "    \n",
    "    :param sql: MySQL query\n",
    "    :return: Pandas dataframe containing results\n",
    "    \"\"\"\n",
    "    try:\n",
    "    \n",
    "        return pd.read_sql_query(sql, connection)\n",
    "    except Exception as e:\n",
    "        print('\\n-- DEBUG:', e)\n",
    "        raise"
   ]
  },
  {
   "cell_type": "code",
   "execution_count": 46,
   "id": "df900d0f-c64d-44e4-802b-f4afa5823226",
   "metadata": {},
   "outputs": [],
   "source": [
    "def mysql_disconnect():\n",
    "    \"\"\"Closes the MySQL database connection.\n",
    "    \"\"\"\n",
    "    \n",
    "    connection.close()"
   ]
  },
  {
   "cell_type": "markdown",
   "id": "56eb1df7-15e8-4d40-95fe-07af312e841e",
   "metadata": {},
   "source": [
    "## Connectivity Validity"
   ]
  },
  {
   "cell_type": "code",
   "execution_count": 47,
   "id": "75ffc784-d148-40ae-9f5d-4124ffb0774b",
   "metadata": {},
   "outputs": [],
   "source": [
    "open_ssh_tunnel()\n",
    "\n",
    "mysql_connect()\n",
    "\n",
    "mycursor = connection.cursor() "
   ]
  },
  {
   "cell_type": "code",
   "execution_count": 48,
   "id": "f1f9f141-9b68-4ebb-9c35-fa0cf50e7ec2",
   "metadata": {},
   "outputs": [
    {
     "name": "stdout",
     "output_type": "stream",
     "text": [
      "56482\n"
     ]
    }
   ],
   "source": [
    "print(tunnel.local_bind_port)"
   ]
  },
  {
   "cell_type": "markdown",
   "id": "9f75de7d-d89d-45a1-86f2-060f84ff9539",
   "metadata": {},
   "source": [
    "## Insertion"
   ]
  },
  {
   "cell_type": "code",
   "execution_count": 33,
   "id": "5db50e6e-5205-4528-be05-f934673eeff2",
   "metadata": {},
   "outputs": [],
   "source": [
    "open_ssh_tunnel()\n",
    "\n",
    "mysql_connect()\n",
    "\n",
    "mycursor = connection.cursor() "
   ]
  },
  {
   "cell_type": "code",
   "execution_count": 34,
   "id": "50089605-ea3b-4a70-a9ad-7d49f90fbd0a",
   "metadata": {},
   "outputs": [],
   "source": [
    "%run \"Libraries.ipynb\""
   ]
  },
  {
   "cell_type": "code",
   "execution_count": 35,
   "id": "9a69e78a-dc46-481d-bf06-201cf40676af",
   "metadata": {},
   "outputs": [],
   "source": [
    "import requests \n",
    "from bs4 import BeautifulSoup\n",
    "\n",
    "headers_Get = {\n",
    "        'User-Agent': 'Mozilla/5.0 (Windows NT 6.1; WOW64; rv:49.0) Gecko/20100101 Firefox/49.0',\n",
    "        'Accept': 'text/html,application/xhtml+xml,application/xml;q=0.9,*/*;q=0.8',\n",
    "        'Accept-Language': 'en-US,en;q=0.5',\n",
    "        'Accept-Encoding': 'gzip, deflate',\n",
    "        'DNT': '1',\n",
    "        'Connection': 'keep-alive',\n",
    "        'Upgrade-Insecure-Requests': '1'\n",
    "    }\n",
    "\n",
    "\n",
    "def google(q):\n",
    "    s = requests.Session()\n",
    "    q = 'news:' + q\n",
    "    q = '+'.join(q.split())\n",
    "    url = 'https://www.google.com/search?q=' + q + '&ie=utf-8&oe=utf-8'\n",
    "    r = s.get(url, headers=headers_Get)\n",
    "    soup = BeautifulSoup(r.text, \"html.parser\")\n",
    "    output = []\n",
    "\n",
    "    for searchWrapper in soup.select('a[href*=\"https://\"]'): #this line may change in future based on google's web page structure\n",
    "        #url = searchWrapper\n",
    "        url = (searchWrapper.get('href')).split('url=')[-1]\n",
    "        if not ('google.com' in url or len(url) < len(q) or 'reddit.com' in url):\n",
    "            #print(url)\n",
    "            output.append(url)\n",
    "\n",
    "    return output\n",
    "\n",
    "def getNewsArticleFromURLs(title):\n",
    "    from newspaper import Article\n",
    "    \n",
    "    urls = google(title)\n",
    "    \n",
    "    content = \"\"\n",
    "    for url in urls:\n",
    "        # get content \n",
    "        try:\n",
    "            content = Article(url)\n",
    "            content.download()\n",
    "            content.parse()\n",
    "            content = content.text\n",
    "            if len(content.strip()) > 100:\n",
    "                break\n",
    "        except Exception as e:\n",
    "            pass\n",
    "    if content == \"\":\n",
    "        print('\\n-- DEBUG: No valid article is found for {}'.format(title))\n",
    "            \n",
    "    return content    "
   ]
  },
  {
   "cell_type": "markdown",
   "id": "07bc3e07-69d2-4c19-8777-ec533e1d1103",
   "metadata": {},
   "source": [
    "def save_pickle_object(obj, filename):\n",
    "    with open(filename, 'wb') as outp:  # Overwrites any existing file.\n",
    "        pickle.dump(obj, outp, pickle.HIGHEST_PROTOCOL)\n",
    "save_pickle_object(working_df,'news_crawler/output/df/new/REDDIT_EN_1-12.pikle')"
   ]
  },
  {
   "cell_type": "code",
   "execution_count": 37,
   "id": "fbe53246-0201-4551-8de5-fee7cc41d00e",
   "metadata": {},
   "outputs": [],
   "source": [
    "def is_valid_article_insertion(query):\n",
    "    query_uppercase = query.upper()\n",
    "    if \"INSERT INTO\" in query_uppercase and \"VALUES\" in query_uppercase:\n",
    "        if \"(\" in query and \")\" in query:\n",
    "            return True\n",
    "    return False"
   ]
  },
  {
   "cell_type": "code",
   "execution_count": 38,
   "id": "7e291669-5eb5-4891-8a65-063209ae1535",
   "metadata": {
    "tags": []
   },
   "outputs": [],
   "source": [
    "from dateutil import parser\n",
    "\n",
    "def is_likely_datetime(s):\n",
    "    try:\n",
    "        parser.parse(s)\n",
    "        return True\n",
    "    except:\n",
    "        return False\n",
    "\n",
    "def is_valid_article_insertion(row):\n",
    "    text = str(row['article'])\n",
    "    \n",
    "    lang = str(row['lang'])\n",
    "    \n",
    "    datetime = str(row['datetime'])\n",
    "    \n",
    "    if len(text) > 10 and  is_likely_datetime(datetime) and lang in ['EN', 'CN', 'BM', 'BI']:\n",
    "        return True\n",
    "    else:\n",
    "        return False\n",
    "    \n",
    "def convert_article_format(article):\n",
    "    if type(article) == list:\n",
    "        article = article[0]\n",
    "\n",
    "    elif type(article) == str:\n",
    "        article = article\n",
    "\n",
    "    else:\n",
    "        article = \"\"\n",
    "\n",
    "    return article"
   ]
  },
  {
   "cell_type": "code",
   "execution_count": 81,
   "id": "1c91a19b-968d-41c8-80a7-d1733478c9d8",
   "metadata": {
    "collapsed": true,
    "jupyter": {
     "outputs_hidden": true
    },
    "tags": []
   },
   "outputs": [
    {
     "name": "stdin",
     "output_type": "stream",
     "text": [
      "Enter dataframe directory: news_crawler/output/df/\n"
     ]
    },
    {
     "name": "stdout",
     "output_type": "stream",
     "text": [
      "\n"
     ]
    },
    {
     "name": "stdin",
     "output_type": "stream",
     "text": [
      "Enter dataframe name: SG_EYE_DF_1-12.pickle\n"
     ]
    },
    {
     "name": "stdout",
     "output_type": "stream",
     "text": [
      "\n",
      "Check Column Name Before Insertion: title, content, datetime, source_id, lang (2521, 9)\n"
     ]
    },
    {
     "data": {
      "text/html": [
       "<div>\n",
       "<style scoped>\n",
       "    .dataframe tbody tr th:only-of-type {\n",
       "        vertical-align: middle;\n",
       "    }\n",
       "\n",
       "    .dataframe tbody tr th {\n",
       "        vertical-align: top;\n",
       "    }\n",
       "\n",
       "    .dataframe thead th {\n",
       "        text-align: right;\n",
       "    }\n",
       "</style>\n",
       "<table border=\"1\" class=\"dataframe\">\n",
       "  <thead>\n",
       "    <tr style=\"text-align: right;\">\n",
       "      <th></th>\n",
       "      <th>url</th>\n",
       "      <th>datetime</th>\n",
       "      <th>article</th>\n",
       "      <th>news_title</th>\n",
       "      <th>lang</th>\n",
       "      <th>org</th>\n",
       "      <th>news_category</th>\n",
       "      <th>new_comments</th>\n",
       "      <th>source</th>\n",
       "    </tr>\n",
       "  </thead>\n",
       "  <tbody>\n",
       "    <tr>\n",
       "      <th>0</th>\n",
       "      <td>https://www.xinjiapoyan.com/thread-42369-1-5.html</td>\n",
       "      <td>2022-12-27 09:18:42</td>\n",
       "      <td>求助 在新加坡，把Singpass密码忘记了怎么办？ 网友们是这么回答的： 去附近的联络所，...</td>\n",
       "      <td>在新加坡，Singpass密码忘记了怎么办？</td>\n",
       "      <td>CN</td>\n",
       "      <td>1</td>\n",
       "      <td>NaN</td>\n",
       "      <td>[{'cmt_id': '356423', 'cmt_replyTo': '', 'cmt_...</td>\n",
       "      <td>5</td>\n",
       "    </tr>\n",
       "    <tr>\n",
       "      <th>1</th>\n",
       "      <td>https://www.xinjiapoyan.com/thread-42368-1-6.html</td>\n",
       "      <td>2022-12-27 09:17:39</td>\n",
       "      <td>你数过每天吃的饭里都会加几勺盐吗？还在以为多吃点咸的并无大碍，但世卫组织已经要为新加坡人敲响...</td>\n",
       "      <td>饮食没“低钠”？新加坡政府：摄入盐还得摄入“严”！</td>\n",
       "      <td>CN</td>\n",
       "      <td>1</td>\n",
       "      <td>NaN</td>\n",
       "      <td>[{'cmt_id': '356630', 'cmt_replyTo': '', 'cmt_...</td>\n",
       "      <td>5</td>\n",
       "    </tr>\n",
       "    <tr>\n",
       "      <th>2</th>\n",
       "      <td>https://www.xinjiapoyan.com/thread-42070-1-6.html</td>\n",
       "      <td>2022-12-20 08:54:12</td>\n",
       "      <td>在黑街街口的永福安药材店外面，墙上有个牌子写着“Bugis Street”，武疑士街（编注：...</td>\n",
       "      <td>新加坡曾有条“黑街”，时常上演生死大片...</td>\n",
       "      <td>CN</td>\n",
       "      <td>1</td>\n",
       "      <td>NaN</td>\n",
       "      <td>[{'cmt_id': '354405', 'cmt_replyTo': '', 'cmt_...</td>\n",
       "      <td>5</td>\n",
       "    </tr>\n",
       "    <tr>\n",
       "      <th>3</th>\n",
       "      <td>https://www.xinjiapoyan.com/thread-42340-1-6.html</td>\n",
       "      <td>2022-12-26 21:54:57</td>\n",
       "      <td>【我爱问眼哥】 “短期来新，买哪一种预付电话卡比较划算，上网流量大的？” 新加坡重新开放，不...</td>\n",
       "      <td>“短期在新加坡，哪种电话卡上网流量多，费用最划算？”</td>\n",
       "      <td>CN</td>\n",
       "      <td>1</td>\n",
       "      <td>NaN</td>\n",
       "      <td>[{'cmt_id': '356185', 'cmt_replyTo': '', 'cmt_...</td>\n",
       "      <td>5</td>\n",
       "    </tr>\n",
       "    <tr>\n",
       "      <th>4</th>\n",
       "      <td>https://www.xinjiapoyan.com/thread-42367-1-14....</td>\n",
       "      <td>2022-12-27 09:16:21</td>\n",
       "      <td>眼哥最近收到了许许多多网友的提问，大家都纷纷表示：“眼哥，飞中国流程我们都知道啦！入境新加坡...</td>\n",
       "      <td>最新入境新加坡攻略来了！来小坡前要做哪些准备？</td>\n",
       "      <td>CN</td>\n",
       "      <td>1</td>\n",
       "      <td>NaN</td>\n",
       "      <td>[{'cmt_id': '356354', 'cmt_replyTo': '', 'cmt_...</td>\n",
       "      <td>5</td>\n",
       "    </tr>\n",
       "    <tr>\n",
       "      <th>...</th>\n",
       "      <td>...</td>\n",
       "      <td>...</td>\n",
       "      <td>...</td>\n",
       "      <td>...</td>\n",
       "      <td>...</td>\n",
       "      <td>...</td>\n",
       "      <td>...</td>\n",
       "      <td>...</td>\n",
       "      <td>...</td>\n",
       "    </tr>\n",
       "    <tr>\n",
       "      <th>2535</th>\n",
       "      <td>https://www.xinjiapoyan.com/thread-24004-1-289...</td>\n",
       "      <td>2022-1-1 16:59:41</td>\n",
       "      <td>今天中午（1月1日），人力部和贸工部发表文告宣布将工作相关活动的人数限制从50人调高至100...</td>\n",
       "      <td>新加坡进一步解封，工作相关活动开放至1000人</td>\n",
       "      <td>CN</td>\n",
       "      <td>1</td>\n",
       "      <td>NaN</td>\n",
       "      <td>[{'cmt_id': '157353', 'cmt_replyTo': '', 'cmt_...</td>\n",
       "      <td>5</td>\n",
       "    </tr>\n",
       "    <tr>\n",
       "      <th>2536</th>\n",
       "      <td>https://www.xinjiapoyan.com/thread-23967-1-289...</td>\n",
       "      <td>2021-12-31 21:17:07</td>\n",
       "      <td>替14人代打冠病疫苗 印尼男子一天接种三针 为了赚钱，一名印度尼西亚男子替14人代打冠病疫苗...</td>\n",
       "      <td>印尼男子替14人代打冠病疫苗；感染奥密克戎可形成免疫</td>\n",
       "      <td>CN</td>\n",
       "      <td>1</td>\n",
       "      <td>NaN</td>\n",
       "      <td>[{'cmt_id': '157171', 'cmt_replyTo': '', 'cmt_...</td>\n",
       "      <td>5</td>\n",
       "    </tr>\n",
       "    <tr>\n",
       "      <th>2537</th>\n",
       "      <td>https://www.xinjiapoyan.com/thread-23971-1-289...</td>\n",
       "      <td>2021-12-31 22:27:10</td>\n",
       "      <td>新加坡卫生部通报，12月31日新增确诊病例344起，含社区病例165起、客工宿舍病例7起，境...</td>\n",
       "      <td>12月31日新增确诊病例344起，今晚通报死亡病例1起</td>\n",
       "      <td>CN</td>\n",
       "      <td>1</td>\n",
       "      <td>NaN</td>\n",
       "      <td>[{'cmt_id': '157125', 'cmt_replyTo': '', 'cmt_...</td>\n",
       "      <td>5</td>\n",
       "    </tr>\n",
       "    <tr>\n",
       "      <th>2538</th>\n",
       "      <td>https://www.xinjiapoyan.com/thread-23994-1-289...</td>\n",
       "      <td>2022-1-1 10:25:46</td>\n",
       "      <td>以下为酷航1月在中国大陆和中国澳门出发前往新加坡的航线： 【天津 - 新加坡（TR139) ...</td>\n",
       "      <td>最新！酷航发布1月份航班计划</td>\n",
       "      <td>CN</td>\n",
       "      <td>1</td>\n",
       "      <td>NaN</td>\n",
       "      <td>[{'cmt_id': '157285', 'cmt_replyTo': '', 'cmt_...</td>\n",
       "      <td>5</td>\n",
       "    </tr>\n",
       "    <tr>\n",
       "      <th>2539</th>\n",
       "      <td>https://www.xinjiapoyan.com/thread-23892-1-290...</td>\n",
       "      <td>2021-12-30 15:01:49</td>\n",
       "      <td>今天（12月30日），新加坡能源集团发布公告表示，电费又要上涨了。 2022年1月至3月本地...</td>\n",
       "      <td>突发！电费、煤气费双双上涨，后天生效</td>\n",
       "      <td>CN</td>\n",
       "      <td>1</td>\n",
       "      <td>NaN</td>\n",
       "      <td>[{'cmt_id': '156615', 'cmt_replyTo': '', 'cmt_...</td>\n",
       "      <td>5</td>\n",
       "    </tr>\n",
       "  </tbody>\n",
       "</table>\n",
       "<p>2516 rows × 9 columns</p>\n",
       "</div>"
      ],
      "text/plain": [
       "                                                    url             datetime  \\\n",
       "0     https://www.xinjiapoyan.com/thread-42369-1-5.html  2022-12-27 09:18:42   \n",
       "1     https://www.xinjiapoyan.com/thread-42368-1-6.html  2022-12-27 09:17:39   \n",
       "2     https://www.xinjiapoyan.com/thread-42070-1-6.html  2022-12-20 08:54:12   \n",
       "3     https://www.xinjiapoyan.com/thread-42340-1-6.html  2022-12-26 21:54:57   \n",
       "4     https://www.xinjiapoyan.com/thread-42367-1-14....  2022-12-27 09:16:21   \n",
       "...                                                 ...                  ...   \n",
       "2535  https://www.xinjiapoyan.com/thread-24004-1-289...    2022-1-1 16:59:41   \n",
       "2536  https://www.xinjiapoyan.com/thread-23967-1-289...  2021-12-31 21:17:07   \n",
       "2537  https://www.xinjiapoyan.com/thread-23971-1-289...  2021-12-31 22:27:10   \n",
       "2538  https://www.xinjiapoyan.com/thread-23994-1-289...    2022-1-1 10:25:46   \n",
       "2539  https://www.xinjiapoyan.com/thread-23892-1-290...  2021-12-30 15:01:49   \n",
       "\n",
       "                                                article  \\\n",
       "0     求助 在新加坡，把Singpass密码忘记了怎么办？ 网友们是这么回答的： 去附近的联络所，...   \n",
       "1     你数过每天吃的饭里都会加几勺盐吗？还在以为多吃点咸的并无大碍，但世卫组织已经要为新加坡人敲响...   \n",
       "2     在黑街街口的永福安药材店外面，墙上有个牌子写着“Bugis Street”，武疑士街（编注：...   \n",
       "3     【我爱问眼哥】 “短期来新，买哪一种预付电话卡比较划算，上网流量大的？” 新加坡重新开放，不...   \n",
       "4     眼哥最近收到了许许多多网友的提问，大家都纷纷表示：“眼哥，飞中国流程我们都知道啦！入境新加坡...   \n",
       "...                                                 ...   \n",
       "2535  今天中午（1月1日），人力部和贸工部发表文告宣布将工作相关活动的人数限制从50人调高至100...   \n",
       "2536  替14人代打冠病疫苗 印尼男子一天接种三针 为了赚钱，一名印度尼西亚男子替14人代打冠病疫苗...   \n",
       "2537  新加坡卫生部通报，12月31日新增确诊病例344起，含社区病例165起、客工宿舍病例7起，境...   \n",
       "2538  以下为酷航1月在中国大陆和中国澳门出发前往新加坡的航线： 【天津 - 新加坡（TR139) ...   \n",
       "2539  今天（12月30日），新加坡能源集团发布公告表示，电费又要上涨了。 2022年1月至3月本地...   \n",
       "\n",
       "                       news_title lang  org  news_category  \\\n",
       "0          在新加坡，Singpass密码忘记了怎么办？   CN    1            NaN   \n",
       "1       饮食没“低钠”？新加坡政府：摄入盐还得摄入“严”！   CN    1            NaN   \n",
       "2          新加坡曾有条“黑街”，时常上演生死大片...   CN    1            NaN   \n",
       "3      “短期在新加坡，哪种电话卡上网流量多，费用最划算？”   CN    1            NaN   \n",
       "4         最新入境新加坡攻略来了！来小坡前要做哪些准备？   CN    1            NaN   \n",
       "...                           ...  ...  ...            ...   \n",
       "2535      新加坡进一步解封，工作相关活动开放至1000人   CN    1            NaN   \n",
       "2536   印尼男子替14人代打冠病疫苗；感染奥密克戎可形成免疫   CN    1            NaN   \n",
       "2537  12月31日新增确诊病例344起，今晚通报死亡病例1起   CN    1            NaN   \n",
       "2538               最新！酷航发布1月份航班计划   CN    1            NaN   \n",
       "2539           突发！电费、煤气费双双上涨，后天生效   CN    1            NaN   \n",
       "\n",
       "                                           new_comments  source  \n",
       "0     [{'cmt_id': '356423', 'cmt_replyTo': '', 'cmt_...       5  \n",
       "1     [{'cmt_id': '356630', 'cmt_replyTo': '', 'cmt_...       5  \n",
       "2     [{'cmt_id': '354405', 'cmt_replyTo': '', 'cmt_...       5  \n",
       "3     [{'cmt_id': '356185', 'cmt_replyTo': '', 'cmt_...       5  \n",
       "4     [{'cmt_id': '356354', 'cmt_replyTo': '', 'cmt_...       5  \n",
       "...                                                 ...     ...  \n",
       "2535  [{'cmt_id': '157353', 'cmt_replyTo': '', 'cmt_...       5  \n",
       "2536  [{'cmt_id': '157171', 'cmt_replyTo': '', 'cmt_...       5  \n",
       "2537  [{'cmt_id': '157125', 'cmt_replyTo': '', 'cmt_...       5  \n",
       "2538  [{'cmt_id': '157285', 'cmt_replyTo': '', 'cmt_...       5  \n",
       "2539  [{'cmt_id': '156615', 'cmt_replyTo': '', 'cmt_...       5  \n",
       "\n",
       "[2516 rows x 9 columns]"
      ]
     },
     "metadata": {},
     "output_type": "display_data"
    },
    {
     "name": "stdin",
     "output_type": "stream",
     "text": [
      "Ready to Insert 0/1? 1\n"
     ]
    },
    {
     "name": "stdout",
     "output_type": "stream",
     "text": [
      "Begin Insertion：\n"
     ]
    },
    {
     "name": "stdin",
     "output_type": "stream",
     "text": [
      "Has Comment 0/1? 1\n"
     ]
    },
    {
     "name": "stdout",
     "output_type": "stream",
     "text": [
      "\n",
      "-- DEBUG: Working on the dataset:\n"
     ]
    },
    {
     "name": "stderr",
     "output_type": "stream",
     "text": [
      "100%|██████████████████████████████████████████████████████████████████████████████| 2521/2521 [10:37<00:00,  3.95it/s]"
     ]
    },
    {
     "name": "stdout",
     "output_type": "stream",
     "text": [
      "\n",
      "-- DEBUG:  1 was inserted.\n"
     ]
    },
    {
     "name": "stderr",
     "output_type": "stream",
     "text": [
      "\n"
     ]
    },
    {
     "data": {
      "text/plain": [
       "'SG_EYE_DF_1-12.pickle'"
      ]
     },
     "execution_count": 81,
     "metadata": {},
     "output_type": "execute_result"
    }
   ],
   "source": [
    "from tqdm import tqdm, trange\n",
    "\n",
    "import ast\n",
    "\n",
    "open_ssh_tunnel()\n",
    "\n",
    "mysql_connect()\n",
    "\n",
    "mycursor = connection.cursor()\n",
    "\n",
    "def insert_comment_1df(comment_df, article_id):\n",
    "    \n",
    "    current_time = datetime.today().strftime(\"%Y-%m-%d\") + 'T' + datetime.today().strftime(\"%H:%M\")\n",
    "    \n",
    "    for idx, row in comment_df.iterrows():    \n",
    "        \n",
    "        insert_cmt_query =  \"INSERT INTO dsta_db.comment (cmt_id, cmt_content, cmt_replyTo, cmt_publish_datetime, cmt_source_id, cmt_user, cmt_likes, cmt_article_id, lang, last_modified, source_id) VALUES (%s, %s, %s, %s, %s, %s, %s, %s, %s, %s, %s)\"      \n",
    "        \n",
    "        value = (str(row['cmt_id']), str(row['cmt_text']), str(row['cmt_replyTo']), str(row['cmt_datetime']), str(row['source']), str(row['cmt_user']), str(row['cmt_score']), str(article_id), str(row['lang']), str(current_time), str(row['source']))\n",
    "\n",
    "        if len(row['cmt_text']) > 10:\n",
    "            \n",
    "            mycursor.execute(insert_cmt_query, value)\n",
    "            \n",
    "            connection.commit()\n",
    "            \n",
    "            pass\n",
    "            \n",
    "\n",
    "def insert_article_1df(news_dataset, has_comments=False):\n",
    "    \n",
    "    missing = 0\n",
    "    \n",
    "    print('\\n-- DEBUG: Working on the dataset:')\n",
    "    \n",
    "    news_dataset = news_dataset.fillna(\"\")\n",
    "\n",
    "    mycursor = connection.cursor()   \n",
    "\n",
    "    current_time = datetime.today().strftime(\"%Y-%m-%d\") + 'T' + datetime.today().strftime(\"%H:%M\")\n",
    "    \n",
    "    for idx, row in tqdm(news_dataset.iterrows(), total=news_dataset.shape[0]):\n",
    "        \n",
    "        insert_article_query =  \"INSERT INTO dsta_db.news (category, published_datetime, org_content, org_title, source_id, url, lang, org, last_modified) VALUES (%s, %s, %s, %s, %s, %s, %s, %s, %s)\"\n",
    "    \n",
    "        #next_id = selection('SELECT article_id FROM dsta_db.news where last_modified = (select min(last_modified) from dsta_db.news);')\n",
    "    \n",
    "        if is_valid_article_insertion(row):\n",
    "            #values.append((row['news_category'], row['datetime'], convert_article_format(row['article']), row['news_title'], row['source'], row['url'], row['lang'], row['org'], current_time))\n",
    "            value = (row['news_category'], row['datetime'], convert_article_format(row['article']), row['news_title'], row['source'], row['url'], row['lang'], row['org'], current_time)\n",
    "            \n",
    "            mycursor.execute(insert_article_query, value)\n",
    "            \n",
    "            connection.commit()\n",
    "            \n",
    "            if has_comments:\n",
    "                article_id = mycursor.lastrowid\n",
    "                \n",
    "                comments = row[\"new_comments\"]\n",
    "                \n",
    "                try:\n",
    "                    comments = ast.literal_eval(comments)\n",
    "                except Exception as e:\n",
    "                    pass\n",
    "                    \n",
    "                comments_df = pd.DataFrame.from_records(comments)                    \n",
    "\n",
    "                comments_df['source'] = row['source']\n",
    "\n",
    "                comments_df['lang'] = row['lang']\n",
    "                \n",
    "                insert_comment_1df(comments_df, article_id)\n",
    "            \n",
    "            #article_id = mycursor.lastrowid\n",
    "    #mycursor.executemany(insert_query, values)\n",
    "    #connection.commit()\n",
    "    \n",
    "    print('\\n-- DEBUG: ',mycursor.rowcount, \"was inserted.\")\n",
    "\n",
    "#df_path = \"REDDIT_EN_1-12.pikle\"\n",
    "\n",
    "#working_df = pd.read_pickle(\"news_crawler/output/df/new/\"+df_path)\n",
    "\n",
    "#display(working_df)\n",
    "\n",
    "directory = input(\"Enter dataframe directory:\")\n",
    "print()\n",
    "df_path = input(\"Enter dataframe name:\")\n",
    "print()\n",
    "try:\n",
    "\n",
    "    working_df = pd.read_pickle(directory+df_path)\n",
    "    working_df = working_df.replace(r'^\\s*$', np.nan, regex=True)\n",
    "    working_df = working_df.dropna(subset=['article'])\n",
    "    \n",
    "    print('Check Column Name Before Insertion: title, content, datetime, source_id, lang', working_df.shape)\n",
    "    display(working_df.head(-5))\n",
    "    \n",
    "    proceed = input('Ready to Insert 0/1?')    \n",
    "    if int(proceed)==1:\n",
    "        print('Begin Insertion：')\n",
    "        has_comments = True if int(input('Has Comment 0/1?')) == 1 else False\n",
    "        insert_article_1df(working_df, has_comments=has_comments)\n",
    "\n",
    "except Exception as e:\n",
    "    print(e)\n",
    "    \n",
    "\"news_crawler/output/df/\"\n",
    "\"BRUDIRECT_MS_df.pickle\"\n",
    "\"BERITA_2022-08-31_2023-12-31.pickle\"\n",
    "\"ZB_2022-08-31_2023-12-31.pickle\"\n",
    "\"SG_EYE_DF_1-12.pickle\""
   ]
  },
  {
   "cell_type": "markdown",
   "id": "054fc17e-1b06-4458-852d-31acf01c9f1d",
   "metadata": {},
   "source": [
    "## Translate Language Database"
   ]
  },
  {
   "cell_type": "code",
   "execution_count": 89,
   "id": "eca8d2c0-ceb0-40ea-a256-5d0b035ded12",
   "metadata": {},
   "outputs": [],
   "source": [
    "open_ssh_tunnel()\n",
    "\n",
    "mysql_connect()\n",
    "\n",
    "mycursor = connection.cursor() \n",
    "\n",
    "ids = (selection('SELECT article_id FROM dsta_db.news where translated = False'))\n",
    "\n",
    "#for idx, value in tqdm(enumerate(ids)):\n",
    "#    new_value = new_ids[idx]\n",
    "#    query = \"UPDATE dsta_db.news_test SET news_id = '{}' WHERE news_id = '{}'\".format(new_value, value)\n",
    "#    update(mycursor, query)\n"
   ]
  },
  {
   "cell_type": "code",
   "execution_count": 32,
   "id": "b1fe5592-0be0-4a0a-ae12-b357a87f9872",
   "metadata": {},
   "outputs": [
    {
     "name": "stdout",
     "output_type": "stream",
     "text": [
      "320180\n"
     ]
    },
    {
     "data": {
      "text/plain": [
       "0"
      ]
     },
     "execution_count": 32,
     "metadata": {},
     "output_type": "execute_result"
    }
   ],
   "source": [
    "max_id = selection('SELECT max(article_id) FROM dsta_db.news')\n",
    "max_id = max_id.loc[0].values[0] + 1\n",
    "\n",
    "print(max_id)\n",
    "\n",
    "#mycursor.execute(\"ALTER TABLE dsta_db.news AUTO_INCREMENT = {} \".format(max_id))\n",
    "\n",
    "mycursor.execute(\"ALTER TABLE dsta_db.comment AUTO_INCREMENT = {} \".format(0))\n",
    "\n",
    "#q = \"ALTER TABLE dsta_db.comment MODIFY COLUMN cmt_likes VARCHAR(10) NULL;\"\n",
    "\n",
    "#mycursor.execute(\"ALTER TABLE dsta_db.comment MODIFY COLUMN cmt_likes VARCHAR(100) NULL;\")"
   ]
  },
  {
   "cell_type": "code",
   "execution_count": 90,
   "id": "e7370cba-e6ad-460b-a792-dce65731132a",
   "metadata": {
    "tags": []
   },
   "outputs": [
    {
     "name": "stdout",
     "output_type": "stream",
     "text": [
      "Potential transmission of COVID-19 in the community\n"
     ]
    }
   ],
   "source": [
    "import requests\n",
    "import json\n",
    "\n",
    "TRANS_API_CN = 'http://10.2.56.41:8090/predictions/zh-en'\n",
    "\n",
    "TRANS_API_BI = 'http://10.2.56.41:8082/predictions/id-en/'\n",
    "\n",
    "TRANS_API_BM = 'http://10.2.56.41:8082/predictions/ms-en/'\n",
    "\n",
    "# Single Sentence Translation\n",
    "trans_response = requests.post(TRANS_API_CN, json={'data': '你好世界'})\n",
    "#print(trans_response.text)\n",
    "\n",
    "# Single Sentence Translation\n",
    "trans_response = requests.post(TRANS_API_BI, json={'data': 'Potensi penularan COVID-19 di tengah masyaraka'})\n",
    "print(trans_response.text)\n"
   ]
  },
  {
   "cell_type": "code",
   "execution_count": 51,
   "id": "667729fa-2f90-4b96-b11a-cb49ad03359c",
   "metadata": {},
   "outputs": [
    {
     "data": {
      "text/plain": [
       "False"
      ]
     },
     "execution_count": 51,
     "metadata": {},
     "output_type": "execute_result"
    }
   ],
   "source": [
    "\"2022-01-02\"\n",
    "\n",
    "is_likely_datetime(\"Hello\")"
   ]
  },
  {
   "cell_type": "code",
   "execution_count": null,
   "id": "88526b0b-4dba-4a83-9f50-4e9f12358a50",
   "metadata": {},
   "outputs": [],
   "source": [
    "dir_list = os.listdir('data/news_data_output/')"
   ]
  },
  {
   "cell_type": "code",
   "execution_count": 84,
   "id": "40784639-0e66-4aee-85d9-ed96434851fb",
   "metadata": {},
   "outputs": [],
   "source": [
    "mysql_disconnect()\n",
    "close_ssh_tunnel()"
   ]
  }
 ],
 "metadata": {
  "kernelspec": {
   "display_name": "Python 3 (ipykernel)",
   "language": "python",
   "name": "python3"
  },
  "language_info": {
   "codemirror_mode": {
    "name": "ipython",
    "version": 3
   },
   "file_extension": ".py",
   "mimetype": "text/x-python",
   "name": "python",
   "nbconvert_exporter": "python",
   "pygments_lexer": "ipython3",
   "version": "3.9.12"
  },
  "widgets": {
   "application/vnd.jupyter.widget-state+json": {
    "state": {},
    "version_major": 2,
    "version_minor": 0
   }
  }
 },
 "nbformat": 4,
 "nbformat_minor": 5
}
